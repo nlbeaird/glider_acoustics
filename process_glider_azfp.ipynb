{
 "cells": [
  {
   "cell_type": "code",
   "execution_count": null,
   "metadata": {},
   "outputs": [],
   "source": [
    "from echopype.convert import Convert\n",
    "from echopype import Process\n",
    "import glob\n",
    "import random\n",
    "import matplotlib.pyplot as plt\n",
    "\n",
    "import numpy as np\n",
    "\n",
    "\n",
    "from glider_azfp import load_glider, merge_glider_AZFP"
   ]
  },
  {
   "cell_type": "code",
   "execution_count": null,
   "metadata": {},
   "outputs": [],
   "source": [
    "gl = load_glider(dataset_id ='ru32-20190102T1317-profile-sci-rt')\n",
    "\n",
    "# gl"
   ]
  },
  {
   "cell_type": "markdown",
   "metadata": {},
   "source": [
    "# load an AZFP file\n",
    "\n",
    "you'd want to build the loop below here"
   ]
  },
  {
   "cell_type": "code",
   "execution_count": null,
   "metadata": {},
   "outputs": [],
   "source": [
    "path_to_raw = './data/'\n",
    "\n",
    "# alternativly, pick a random file\n",
    "all_files = glob.glob(path_to_raw+'*.01A')\n",
    "# a random file from the list (got to remove path and extention)\n",
    "fname = random.choice(all_files)[7:-4]\n",
    "\n",
    "# path to the 'fake' calibration file\n",
    "calib_file = './data/NLB_test.XML'\n",
    "\n",
    "print('random file used:')\n",
    "print(fname + '.01A')"
   ]
  },
  {
   "cell_type": "code",
   "execution_count": null,
   "metadata": {},
   "outputs": [],
   "source": [
    "\n",
    "# fname = '19011711'\n",
    "# fname = '19011717'\n",
    "fname = '19011709' #decent swarm, maybe bottom reflection?\n",
    "\n",
    "\n",
    "# converts the raw AZFP data\n",
    "# we are 'tricking' echopype with a fake .XML file\n",
    "# the real files fail because there is no temperature data\n",
    "# edit the './data/' parts so the path works for where you put the files\n",
    "data_tmp = Convert(path_to_raw + fname + '.01A', calib_file)\n",
    "\n",
    "\n",
    "# place to save processed files\n",
    "savedir = './data_netcdfs/'\n",
    "\n",
    "# converts to a netcdf we can use with xarray\n",
    "data_tmp.raw2nc(save_path = savedir )\n",
    "\n",
    "\n",
    "# read the converted data \n",
    "\n",
    "nc_path = savedir + fname + '.nc'\n",
    "\n",
    "# process so you can get calibrated, clean, data \n",
    "\n",
    "ed = Process(nc_path)   # create a processing object\n",
    "\n",
    "# need to figure out how much it matter that these vary a lot\n",
    "\n",
    "ed.temperature = gl.potential_temperature.mean().values  \n",
    "ed.salinity = gl.salinity.mean().values     \n",
    "ed.pressure = gl.pressure.mean().values     # pressure in dbar\n",
    "ed.recalculate_environment()  # recalculate related parameters\n",
    "\n",
    "ed.calibrate()           # Sv\n",
    "ed.remove_noise(SNR=2)        # denoise, this is adaptive! will change with the file! NOT WORKING NOW!\n",
    "\n",
    "azfp = ed.Sv_clean\n"
   ]
  },
  {
   "cell_type": "code",
   "execution_count": null,
   "metadata": {},
   "outputs": [],
   "source": [
    "ds = merge_glider_AZFP( gl, azfp, )\n",
    "\n",
    "# ds"
   ]
  },
  {
   "cell_type": "code",
   "execution_count": null,
   "metadata": {},
   "outputs": [],
   "source": [
    "\n",
    "plt.figure(figsize=(10,10))\n",
    "ds.Sv[0,:,:].plot(x=\"ping_time\", y=\"bin_depths\", yincrease=False)\n",
    "ds.bottom_depth.plot(marker='o', ls='')\n"
   ]
  },
  {
   "cell_type": "markdown",
   "metadata": {},
   "source": [
    "# processing with echopy\n",
    "\n",
    "try some:\n",
    "1. seabed masking\n",
    "1. impluse noise removal\n",
    "1. swarm detection"
   ]
  },
  {
   "cell_type": "code",
   "execution_count": null,
   "metadata": {},
   "outputs": [],
   "source": [
    "from echopy.processing import mask_seabed as  maskSB\n",
    "from echopy.processing import mask_impulse as mIN\n",
    "from echopy.processing import mask_shoals as mSH\n"
   ]
  },
  {
   "cell_type": "code",
   "execution_count": null,
   "metadata": {},
   "outputs": [],
   "source": [
    "# sb = mask_seabed.deltaSv(ds.Sv[0,:,:].data.T, ds.range[0,:,0].data,\n",
    "#                       r0=10, thr=-20)\n",
    "\n",
    "# sb = mask_seabed.maxSv(ds.Sv[0,:,:].data.T, ds.range[0,:,0].data)\n",
    "\n",
    "sb = maskSB.ariza(ds.Sv[0,:,:].data.T, ds.range[0,:,0].data,\n",
    "                      dc=3)\n",
    "\n",
    "# sb = mask_seabed.experimental(ds.Sv[0,:,:].data.T, ds.range[0,:,0].data,\n",
    "#                       )\n",
    "\n",
    "plt.pcolormesh( ds.ping_time, ds.range[0,:,0], sb)\n",
    "\n",
    "plt.figure()\n",
    "plt.pcolormesh(ds.ping_time, ds.range[0,:,0],ds.Sv[0,:,:].T.data )\n",
    "\n",
    "plt.figure()\n",
    "\n",
    "ds.Sv[0,:,:].where(sb.T==0).plot(x=\"ping_time\")"
   ]
  },
  {
   "cell_type": "code",
   "execution_count": null,
   "metadata": {},
   "outputs": [],
   "source": [
    "# look for swarms:\n",
    "\n",
    "# shoal = mSH.weill(ds.Sv[0,:,:].data.T, thr=-70, maxvgap=5, minvlen=1, minhlen=5 )\n",
    "\n",
    "# sv_no_imp = mIN.wang(ds.Sv[0,:,:].data.T, thr=(-70,-40), erode=[(3,3)],\n",
    "#                       dilate=[(7,7)], median=[(7,7)])[0]\n",
    "\n",
    "\n",
    "# plt.pcolormesh(ds.ping_time, ds.range[0,:,0],sv_no_imp )\n",
    "\n",
    "shoal = mSH.echoview(ds.Sv[0,:,:].data.T,\n",
    "    np.arange( len(ds.Sv.range_bin )+1),\n",
    "    np.arange(len(ds.Sv.ping_time)+1),\n",
    "    thr=-85,\n",
    "    mincan=(5, 5),\n",
    "    maxlink=(30, 2),\n",
    "    minsho=(30, 2),\n",
    ")\n",
    "\n",
    "\n",
    "plt.figure()\n",
    "plt.pcolormesh(ds.ping_time, ds.range[0,:,0], shoal[0] )"
   ]
  },
  {
   "cell_type": "code",
   "execution_count": null,
   "metadata": {},
   "outputs": [],
   "source": []
  }
 ],
 "metadata": {
  "kernelspec": {
   "display_name": "Python 3",
   "language": "python",
   "name": "python3"
  },
  "language_info": {
   "codemirror_mode": {
    "name": "ipython",
    "version": 3
   },
   "file_extension": ".py",
   "mimetype": "text/x-python",
   "name": "python",
   "nbconvert_exporter": "python",
   "pygments_lexer": "ipython3",
   "version": "3.8.5"
  }
 },
 "nbformat": 4,
 "nbformat_minor": 4
}
