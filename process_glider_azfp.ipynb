{
 "cells": [
  {
   "cell_type": "code",
   "execution_count": 1,
   "metadata": {},
   "outputs": [],
   "source": [
    "from echopype.convert import Convert\n",
    "from echopype import Process\n",
    "import glob\n",
    "import random\n",
    "import matplotlib.pyplot as plt\n",
    "import xarray as xr\n",
    "\n",
    "import numpy as np\n",
    "\n",
    "from os import path\n",
    "import os\n",
    "\n",
    "\n",
    "from echopy.processing import mask_seabed as  maskSB\n",
    "from echopy.processing import mask_impulse as mIN\n",
    "from echopy.processing import mask_shoals as mSH\n",
    "\n",
    "\n",
    "\n",
    "from glider_azfp import load_glider, merge_glider_AZFP"
   ]
  },
  {
   "cell_type": "code",
   "execution_count": 5,
   "metadata": {},
   "outputs": [
    {
     "name": "stdout",
     "output_type": "stream",
     "text": [
      "CPU times: user 12min 20s, sys: 5.44 s, total: 12min 25s\n",
      "Wall time: 13min 22s\n"
     ]
    }
   ],
   "source": [
    "%%time\n",
    "# load in the glider data\n",
    "# get from erddap first time, then save locally\n",
    "\n",
    "gdata_local = './glider_data/'\n",
    "\n",
    "# gdata_id = 'ru32-20190102T1317-profile-sci-rt'\n",
    "gdata_id = 'ru32-20190102T1317-profile-sci-delayed'\n",
    "\n",
    "# check if the glider data is already saved\n",
    "if path.exists('./glider_data/'+ gdata_id + '.nc'):\n",
    "    \n",
    "    gl = xr.open_dataset(gdata_local + gdata_id + '.nc')\n",
    "    \n",
    "# if not, load from erddap and save it    \n",
    "else:\n",
    "\n",
    "    gl = load_glider(dataset_id = gdata_id)\n",
    "    \n",
    "    if not path.isdir(gdata_local):\n",
    "        os.mkdir(gdata_local)\n",
    "    \n",
    "    # this is taking a really long time to write out (9.5 minutes)!\n",
    "    # the file is like 250MB, why so long?\n",
    "\n",
    "    gl.load().to_netcdf(gdata_local + gdata_id + '.nc')\n",
    "    \n",
    "\n",
    "# gl"
   ]
  },
  {
   "cell_type": "markdown",
   "metadata": {},
   "source": [
    "# load an AZFP file\n",
    "\n",
    "you'd want to build the loop below here"
   ]
  },
  {
   "cell_type": "code",
   "execution_count": 3,
   "metadata": {},
   "outputs": [
    {
     "name": "stdout",
     "output_type": "stream",
     "text": [
      "random file used:\n",
      "19011611.01A\n"
     ]
    }
   ],
   "source": [
    "path_to_raw = './data/'\n",
    "\n",
    "# alternativly, pick a random file\n",
    "all_files = glob.glob(path_to_raw+'*.01A')\n",
    "# a random file from the list (got to remove path and extention)\n",
    "fname = random.choice(all_files)[7:-4]\n",
    "\n",
    "# path to the 'fake' calibration file\n",
    "calib_file = './data/NLB_test.XML'\n",
    "\n",
    "print('random file used:')\n",
    "print(fname + '.01A')"
   ]
  },
  {
   "cell_type": "code",
   "execution_count": 4,
   "metadata": {},
   "outputs": [
    {
     "name": "stdout",
     "output_type": "stream",
     "text": [
      "16:11:05 converting file 19011611.01A with NLB_test.XML, time of first ping 2019-Jan-16 11:00:01\n",
      "          ... this file has already been converted to .nc, conversion not executed.\n",
      "Initialize using average temperature recorded by instrument\n",
      "16:11:06  calibrating data in ./data_netcdfs/19011611.nc\n",
      "16:11:06  Remove noise from Sv stored in memory.\n"
     ]
    }
   ],
   "source": [
    "\n",
    "# fname = '19011711'\n",
    "# fname = '19011717'\n",
    "# fname = '19011709' #decent swarm, maybe bottom reflection?\n",
    "\n",
    "\n",
    "# converts the raw AZFP data\n",
    "# we are 'tricking' echopype with a fake .XML file\n",
    "# the real files fail because there is no temperature data\n",
    "# edit the './data/' parts so the path works for where you put the files\n",
    "data_tmp = Convert(path_to_raw + fname + '.01A', calib_file)\n",
    "\n",
    "\n",
    "# place to save processed files\n",
    "savedir = './data_netcdfs/'\n",
    "\n",
    "# converts to a netcdf we can use with xarray\n",
    "data_tmp.raw2nc(save_path = savedir )\n",
    "\n",
    "\n",
    "# read the converted data \n",
    "\n",
    "nc_path = savedir + fname + '.nc'\n",
    "\n",
    "# process so you can get calibrated, clean, data \n",
    "\n",
    "ed = Process(nc_path)   # create a processing object\n",
    "\n",
    "# need to figure out how much it matter that these vary a lot\n",
    "\n",
    "ed.temperature = gl.potential_temperature.mean().values  \n",
    "ed.salinity = gl.salinity.mean().values     \n",
    "ed.pressure = gl.pressure.mean().values     # pressure in dbar\n",
    "ed.recalculate_environment()  # recalculate related parameters\n",
    "\n",
    "ed.calibrate()           # Sv\n",
    "\n",
    "# lets remove the first few bins with ringdown?\n",
    "ed.Sv.Sv[:,:,:100] = np.NaN\n",
    "\n",
    "ed.remove_noise(SNR=2)        # denoise, this is adaptive! will change with the file! NOT WORKING NOW!\n",
    "\n",
    "\n",
    "\n",
    "azfp = ed.Sv_clean\n"
   ]
  },
  {
   "cell_type": "code",
   "execution_count": 5,
   "metadata": {},
   "outputs": [],
   "source": [
    "\n",
    "# merge the glider and azfp data\n",
    "\n",
    "    # count how many observation are there when the glide is pitched in the right range\n",
    "inds = (ds.m_pitch*180/np.pi < -15) & (ds.m_pitch*180/np.pi > -30)\n",
    "\n",
    "if ( inds.sum() < 3):   \n",
    "    print('')## check if glider data empty, used salinity but could use anything\n",
    "    print(' no data, skipping AZFP file')\n",
    "    print('')\n",
    "    continue \n",
    "else: # if first thing is not true, run the next line\n",
    "    ds = merge_glider_AZFP( gl, azfp, )  \n",
    "\n",
    "# ds"
   ]
  },
  {
   "cell_type": "markdown",
   "metadata": {},
   "source": [
    "# processing with echopy\n",
    "\n",
    "add some processing steps from the `echopy` package\n",
    "\n",
    "try some:\n",
    "1. seabed masking\n",
    "1. impluse noise removal\n",
    "1. swarm detection"
   ]
  },
  {
   "cell_type": "code",
   "execution_count": 6,
   "metadata": {},
   "outputs": [],
   "source": [
    "\n",
    "# create a mask for the bottom\n",
    "sf_mask = np.empty_like(ds.Sv)\n",
    "\n",
    "j = 0\n",
    "for f in ds.frequency:\n",
    "    sf_mask[j,:,:] = maskSB.ariza(ds.Sv.sel(frequency=f).data.T, ds.range[0,:,0].data,\n",
    "                      dc=3).T\n",
    "#     sf_mask[j,:,:] = maskSB.maxSv(ds.Sv.sel(frequency=f).data.T, ds.range[0,:,0].data.T,\n",
    "#                                   r0=0, r1=75, roff=0, thr=(-60, -80)).T\n",
    "    j+=1\n",
    "\n",
    "# create a bottom mask if any of the frequencies detect the bottom\n",
    "seafloor_mask = np.any(sf_mask, axis=0)\n",
    "\n",
    "ds.update({'seafloor_mask': (('ping_time', 'range_bin'), seafloor_mask)});"
   ]
  },
  {
   "cell_type": "code",
   "execution_count": 7,
   "metadata": {},
   "outputs": [],
   "source": [
    "# create a swarm mask\n",
    "# this takes a long time to run ...\n",
    "\n",
    "swarm_mask = np.empty_like(ds.Sv)\n",
    "\n",
    "j = 0\n",
    "for f in ds.frequency:\n",
    "    swarm_mask[j,:,:] = mSH.weill(ds.Sv.sel(frequency=f).where(~ds.seafloor_mask).data.T, \n",
    "                                  thr=-75, maxvgap=50, minvlen=0, minhlen=0)[0].T\n",
    "#     swarm_mask[j,:,:] = mSH.echoview(ds.Sv.sel(frequency=f).where(~ds.seafloor_mask).data.T,\n",
    "#                                     np.arange( len(ds.Sv.range_bin )+1),\n",
    "#                                     np.arange(len(ds.Sv.ping_time)+1),\n",
    "#                                     thr=-85,\n",
    "#                                     mincan=(5, 5),\n",
    "#                                     maxlink=(30, 2),\n",
    "#                                     minsho=(30, 2) )[0].T\n",
    "    \n",
    "\n",
    "    j+=1\n",
    "                                     \n",
    "ds.update({'swarm_mask': (('frequency','ping_time', 'range_bin'),swarm_mask)}) ;                                                                  "
   ]
  },
  {
   "cell_type": "markdown",
   "metadata": {},
   "source": [
    "# plot the results"
   ]
  },
  {
   "cell_type": "code",
   "execution_count": 8,
   "metadata": {},
   "outputs": [
    {
     "data": {
      "text/plain": [
       "Text(0.5, 1.0, 'Sv in swarms')"
      ]
     },
     "execution_count": 8,
     "metadata": {},
     "output_type": "execute_result"
    },
    {
     "data": {
      "image/png": "[encoded data removed]",
      "text/plain": [
       "<Figure size 720x720 with 6 Axes>"
      ]
     },
     "metadata": {
      "needs_background": "light"
     },
     "output_type": "display_data"
    }
   ],
   "source": [
    "plt.figure(figsize=(10,10))\n",
    "\n",
    "svmin = -85\n",
    "svmax = -30\n",
    "\n",
    "f = ds.frequency[1]\n",
    "\n",
    "plt.subplot(221)\n",
    "ds.Sv.sel(frequency =f ).plot(x=\"distance\", \n",
    "                          y=\"bin_depths\", yincrease=False, \n",
    "                         vmin = svmin, vmax= svmax)\n",
    "ds.depth.plot(x=\"distance\", marker='.', ls='')\n",
    "\n",
    "plt.subplot(222)\n",
    "\n",
    "ds.Sv.sel(frequency=f).where(~ds.seafloor_mask).plot(x=\"distance\", \n",
    "                         y=\"bin_depths\", yincrease=False, \n",
    "                         vmin = svmin, vmax= svmax)\n",
    "plt.title('Sv no bottom')\n",
    "\n",
    "plt.subplot(223)\n",
    "\n",
    "ds.Sv.sel(frequency=f).where(ds.swarm_mask.sel(frequency=f)\n",
    "                        ).plot(x=\"distance\", \n",
    "                               y=\"bin_depths\", yincrease=False, \n",
    "                         vmin = svmin, vmax= svmax)\n",
    "plt.title('Sv in swarms')\n",
    "\n",
    "# ds.bottom_depth.plot(marker='o', ls='')"
   ]
  },
  {
   "cell_type": "code",
   "execution_count": null,
   "metadata": {},
   "outputs": [],
   "source": []
  }
 ],
 "metadata": {
  "kernelspec": {
   "display_name": "Python 3",
   "language": "python",
   "name": "python3"
  },
  "language_info": {
   "codemirror_mode": {
    "name": "ipython",
    "version": 3
   },
   "file_extension": ".py",
   "mimetype": "text/x-python",
   "name": "python",
   "nbconvert_exporter": "python",
   "pygments_lexer": "ipython3",
   "version": "3.8.5"
  }
 },
 "nbformat": 4,
 "nbformat_minor": 4
}
